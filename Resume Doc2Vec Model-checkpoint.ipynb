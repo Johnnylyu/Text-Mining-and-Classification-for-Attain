{
 "cells": [
  {
   "cell_type": "markdown",
   "metadata": {},
   "source": [
    "## Text Classification with Doc2vec & Logistic Regression"
   ]
  },
  {
   "cell_type": "code",
   "execution_count": 1,
   "metadata": {},
   "outputs": [
    {
     "name": "stderr",
     "output_type": "stream",
     "text": [
      "C:\\Users\\johnn\\Anaconda3\\lib\\site-packages\\gensim\\utils.py:1212: UserWarning: detected Windows; aliasing chunkize to chunkize_serial\n",
      "  warnings.warn(\"detected Windows; aliasing chunkize to chunkize_serial\")\n"
     ]
    }
   ],
   "source": [
    "import pandas as pd\n",
    "import numpy as np\n",
    "from tqdm import tqdm\n",
    "tqdm.pandas(desc=\"progress-bar\")\n",
    "from gensim.models import Doc2Vec\n",
    "from sklearn import utils\n",
    "from sklearn.model_selection import train_test_split\n",
    "import gensim\n",
    "from sklearn.linear_model import LogisticRegression\n",
    "from gensim.models.doc2vec import TaggedDocument\n",
    "import re\n",
    "import seaborn as sns\n",
    "import matplotlib.pyplot as plt"
   ]
  },
  {
   "cell_type": "code",
   "execution_count": 4,
   "metadata": {
    "scrolled": true
   },
   "outputs": [
    {
     "data": {
      "text/html": [
       "<div>\n",
       "<style scoped>\n",
       "    .dataframe tbody tr th:only-of-type {\n",
       "        vertical-align: middle;\n",
       "    }\n",
       "\n",
       "    .dataframe tbody tr th {\n",
       "        vertical-align: top;\n",
       "    }\n",
       "\n",
       "    .dataframe thead th {\n",
       "        text-align: right;\n",
       "    }\n",
       "</style>\n",
       "<table border=\"1\" class=\"dataframe\">\n",
       "  <thead>\n",
       "    <tr style=\"text-align: right;\">\n",
       "      <th></th>\n",
       "      <th>Index</th>\n",
       "      <th>Resume_text</th>\n",
       "      <th>Job_type</th>\n",
       "    </tr>\n",
       "  </thead>\n",
       "  <tbody>\n",
       "    <tr>\n",
       "      <th>0</th>\n",
       "      <td>1</td>\n",
       "      <td>Technical IT Agile Project Manager / Scrum Mas...</td>\n",
       "      <td>Project Management</td>\n",
       "    </tr>\n",
       "    <tr>\n",
       "      <th>1</th>\n",
       "      <td>2</td>\n",
       "      <td>Certified Project Management Professional (PMP...</td>\n",
       "      <td>Project Management</td>\n",
       "    </tr>\n",
       "    <tr>\n",
       "      <th>2</th>\n",
       "      <td>3</td>\n",
       "      <td>Mr. Agee serves as a Partner and Board Member ...</td>\n",
       "      <td>Other</td>\n",
       "    </tr>\n",
       "    <tr>\n",
       "      <th>3</th>\n",
       "      <td>4</td>\n",
       "      <td>Ms. Morin-Kensicki brings over 20 years of pro...</td>\n",
       "      <td>Project Management</td>\n",
       "    </tr>\n",
       "    <tr>\n",
       "      <th>4</th>\n",
       "      <td>5</td>\n",
       "      <td>Information Technology Professional with six y...</td>\n",
       "      <td>IT &amp; SD</td>\n",
       "    </tr>\n",
       "    <tr>\n",
       "      <th>5</th>\n",
       "      <td>6</td>\n",
       "      <td>Mr. Thomas Pagurek\\n\\nTechnical Services Manag...</td>\n",
       "      <td>IT &amp; SD</td>\n",
       "    </tr>\n",
       "    <tr>\n",
       "      <th>6</th>\n",
       "      <td>7</td>\n",
       "      <td>I’m looking to forward my career, which focuse...</td>\n",
       "      <td>Project Management</td>\n",
       "    </tr>\n",
       "    <tr>\n",
       "      <th>7</th>\n",
       "      <td>8</td>\n",
       "      <td>Attain LLC\\nChief Engineer &amp; Infrastructure Op...</td>\n",
       "      <td>IT &amp; SD</td>\n",
       "    </tr>\n",
       "    <tr>\n",
       "      <th>8</th>\n",
       "      <td>9</td>\n",
       "      <td>Chesapeake Bay Program | Annapolis, MD\\t(05/20...</td>\n",
       "      <td>Analyst&amp;Specialist</td>\n",
       "    </tr>\n",
       "    <tr>\n",
       "      <th>9</th>\n",
       "      <td>10</td>\n",
       "      <td>Mary Baldwin University Library Assistant, Gra...</td>\n",
       "      <td>Analyst&amp;Specialist</td>\n",
       "    </tr>\n",
       "  </tbody>\n",
       "</table>\n",
       "</div>"
      ],
      "text/plain": [
       "   Index                                        Resume_text  \\\n",
       "0      1  Technical IT Agile Project Manager / Scrum Mas...   \n",
       "1      2  Certified Project Management Professional (PMP...   \n",
       "2      3  Mr. Agee serves as a Partner and Board Member ...   \n",
       "3      4  Ms. Morin-Kensicki brings over 20 years of pro...   \n",
       "4      5  Information Technology Professional with six y...   \n",
       "5      6  Mr. Thomas Pagurek\\n\\nTechnical Services Manag...   \n",
       "6      7  I’m looking to forward my career, which focuse...   \n",
       "7      8  Attain LLC\\nChief Engineer & Infrastructure Op...   \n",
       "8      9  Chesapeake Bay Program | Annapolis, MD\\t(05/20...   \n",
       "9     10  Mary Baldwin University Library Assistant, Gra...   \n",
       "\n",
       "             Job_type  \n",
       "0  Project Management  \n",
       "1  Project Management  \n",
       "2               Other  \n",
       "3  Project Management  \n",
       "4             IT & SD  \n",
       "5             IT & SD  \n",
       "6  Project Management  \n",
       "7             IT & SD  \n",
       "8  Analyst&Specialist  \n",
       "9  Analyst&Specialist  "
      ]
     },
     "execution_count": 4,
     "metadata": {},
     "output_type": "execute_result"
    }
   ],
   "source": [
    "df = pd.read_csv('Resumetest.csv')\n",
    "df.head(10)"
   ]
  },
  {
   "cell_type": "markdown",
   "metadata": {},
   "source": [
    "## Data Exploring "
   ]
  },
  {
   "cell_type": "code",
   "execution_count": 5,
   "metadata": {},
   "outputs": [
    {
     "data": {
      "text/plain": [
       "(103, 3)"
      ]
     },
     "execution_count": 5,
     "metadata": {},
     "output_type": "execute_result"
    }
   ],
   "source": [
    "df.shape"
   ]
  },
  {
   "cell_type": "code",
   "execution_count": 6,
   "metadata": {},
   "outputs": [
    {
     "data": {
      "text/plain": [
       "95182"
      ]
     },
     "execution_count": 6,
     "metadata": {},
     "output_type": "execute_result"
    }
   ],
   "source": [
    "df['Resume_text'].apply(lambda x: len(x.split(' '))).sum()"
   ]
  },
  {
   "cell_type": "markdown",
   "metadata": {},
   "source": [
    "Number of occurences for each job type in the resume data."
   ]
  },
  {
   "cell_type": "code",
   "execution_count": 7,
   "metadata": {},
   "outputs": [
    {
     "data": {
      "image/png": "[encoded data removed]",
      "text/plain": [
       "<matplotlib.figure.Figure at 0x1cb00dde6d8>"
      ]
     },
     "metadata": {},
     "output_type": "display_data"
    }
   ],
   "source": [
    "cnt_pro = df['Job_type'].value_counts()\n",
    "\n",
    "plt.figure(figsize=(12,4))\n",
    "sns.barplot(cnt_pro.index, cnt_pro.values, alpha=0.8)\n",
    "plt.ylabel('Number of Occurrences', fontsize=12)\n",
    "plt.xlabel('Job_type', fontsize=12)\n",
    "plt.xticks(rotation=90)\n",
    "plt.show();"
   ]
  },
  {
   "cell_type": "markdown",
   "metadata": {},
   "source": [
    "## Examples of Resume files"
   ]
  },
  {
   "cell_type": "code",
   "execution_count": 8,
   "metadata": {},
   "outputs": [],
   "source": [
    "def job_description(index):\n",
    "    example = df[df.index == index][['Resume_text', 'Job_type']].values[0]\n",
    "    if len(example) > 0:\n",
    "        print(example[0])\n",
    "        print('Job_type:', example[1])"
   ]
  },
  {
   "cell_type": "code",
   "execution_count": 9,
   "metadata": {
    "scrolled": true
   },
   "outputs": [
    {
     "name": "stdout",
     "output_type": "stream",
     "text": [
      "B.S. Information Technology, East Carolina University\n",
      "A.S. Surry Community College\n",
      "A.A. Surry Community College\n",
      "RHCSA EX200, Verification#: 111-169-108 CompTIA Network+, Verification#: BFPGRE4KRG41YGL9\n",
      "CompTIA Security+, Verification#: 1NPMQBC1ZKR12K90\n",
      "CompTIA A+, Verification#: X0EMVB1KT3QQSZ13\tN/A\n",
      "Professional Experience\n",
      "AT&T, Apex Systems Inc.\n",
      "Systems Administrator & Solutions Engineer 2017-2018\n",
      "In this role, I worked on a development team where I provided support for the systems that hosted our\n",
      "applications and tools. I also assisted in solutions engineer work in anticipation of taking a larger role in that position.\n",
      "Technical Experience:\n",
      "o\tRedhat Linux troubleshooting, administration\n",
      "o\tDocker installation, configuration and troubleshooting\n",
      "o\tMariaDB installation and configuration\n",
      "\n",
      "AT&T, Apex Systems Inc. Applications Support Engineer 2017-2017\n",
      "In this role, I was part of an application support team that was tasked with providing tier 2 support to over 100\n",
      "internal AT&T applications used by AT&T employees and customers. Technical Experience:\n",
      "o\tRedhat Linux troubleshooting, administration\n",
      "o\tWindows Server troubleshooting, administration\n",
      "o\tEMC SMARTS configuration, troubleshooting and administration\n",
      "o\tNagios monitoring configuration\n",
      " \n",
      "IBM, Apex Systems Inc. Deployment Engineer 2012-2017\n",
      "At IBM, I was part of a Backup as a Service (BaaS) deployment team. My main duties included building backup\n",
      "environments from the ground up and transitioning these environments to production support. Technical Experience:\n",
      "o\tRedHat Linux 6.3/6.7 installation, configuration, patching, administration.\n",
      "o\tWindows Server 2008 R2/2012 R2 installation, configuration, patching, administration.\n",
      "o\tTivoli Storage Manager, TSM for Virtual Environments, TSM BAClient, SKLM\n",
      "o\tVMWare vCenter, VMWare ESXi\n",
      "o\tIBM M4 and M5 server hardware\n",
      "o\tIBM tape libraries\n",
      "o\tHIPPA and ITCS104 compliance and remediation\n",
      "o\tPowershell Scripting Process Experience:\n",
      "o\tChange management\n",
      "o\tProcess/technical documentation\n",
      "o\tPeer training\n",
      "\n",
      "\n",
      "BlueCross BlueShield of SC\n",
      "Systems Administrator 2009-2012\n",
      "At BCBSSC, my role was that of a general systems administrator across multiple teams, starting with\n",
      "Windows/Intel administration and moving to Unix administration with a concentration on security compliance and remediation.\n",
      "Technical Experience:\n",
      "o\tRedHat Linux 5 configuration, administration, remediation\n",
      "o\tWindows Server 2003/2008 configuration, administration\n",
      "o\tNagios monitoring\n",
      "o\tClient troubleshooting and configuration (TSM, McAfee, CA, Altiris) Process Experience:\n",
      "o\tIncident ticket management\n",
      "o\tChange management\n",
      "o\tOn-call rotation\n",
      "o\tServer acceptance and decommission\n",
      "\n",
      "\n",
      "Alliance One International\n",
      "Help Desk Technician 2007-2009\n",
      "At Alliance One, I worked as part of a help desk support team. Our main duties included desktop/laptop\n",
      "support, maintenance and replacement, as well as printer repair, inventory, software installation and new employee workstation builds.\n",
      "Technical Experience:\n",
      "o\tHP workstations and laptops\n",
      "\n",
      " \n",
      "o\tWindows XP\n",
      "o\tPrinter hardware repair\n",
      "o\tMDT and Ghost imaging/deployment solutions Process Experience:\n",
      "o\tIncident ticketing\n",
      "o\tInventory\n",
      "o\tDocumentation creation\n",
      "Job_type: IT & SD\n"
     ]
    }
   ],
   "source": [
    "job_description(13)"
   ]
  },
  {
   "cell_type": "markdown",
   "metadata": {},
   "source": [
    "## Text Preprocessing "
   ]
  },
  {
   "cell_type": "code",
   "execution_count": 10,
   "metadata": {},
   "outputs": [],
   "source": [
    "from bs4 import BeautifulSoup\n",
    "def cleanText(text):\n",
    "    text = BeautifulSoup(text, \"lxml\").text\n",
    "    text = re.sub(r'\\|\\|\\|', r' ', text) \n",
    "    text = re.sub(r'http\\S+', r'<URL>', text)\n",
    "    text = text.lower()\n",
    "    text = text.replace('x', '')\n",
    "    return text\n",
    "df['Resume_text'] = df['Resume_text'].apply(cleanText)"
   ]
  },
  {
   "cell_type": "code",
   "execution_count": 11,
   "metadata": {},
   "outputs": [
    {
     "data": {
      "text/plain": [
       "'summary\\nambitious and team-oriented software developer seeking full-time opportunities on an agile team.\\n\\neducation\\ngreen river college (auburn, wa)\\t2014-present\\nbachelor’s degree in software development (epected june 2017)\\ntwo time recipient of the national science foundation scholarship for stem, 2015-2016\\n\\ncertifications and skills\\ncertificatiions:\\n•\\tcertified scrum master, scrum alliance, 2016\\n•\\tdigium support engineer (dsse), digium, 2016\\n\\nprogramming languages:\\n•\\tjava – strong ability\\n•\\tphp, sql, html, css, javascript – proficient\\n\\nsoftware development project eperience\\nkent food bank – kentfoodbank.org\\t2016\\nworked on a scrum team to develop a new website for the kent food bank, a local non- profit organization. primary point of contact for the project client. responsible for developing the front-end eperience as well as back-end technologies. helped to coordinate sprints (sprint planning, daily standups, sprint reviews, sprint retrospectives).\\nschedule it – internal system for green river\\t2016\\ndeveloped a database-based website that is currently live and being used by the green river college faculty and staff to help schedule courses. followed scrum practices, focused on back-end code. met with client every two weeks to ensure customer satisfaction.\\nobject pool (strategy pattern) presentation\\t2016\\nled a seminar-style presentation on the object pool strategy pattern. researched design pattern in java, developed a code eample to demonstrate the pattern, discussed application of the design pattern.\\n \\nwork eperience:\\nhelp desk engineer -- np information systems\\ni help troubleshoot various it issues for various remote clients. i provide ecellent customer service by treating customers with patience and dignity.\\n\\ninventory control – helly hansen\\ni utilize comple database software to manage inventory for accuracy and efficiency. i assisted several other departments with various requests, training, and inventory questions.\\n\\namazon book lister – once sold tales\\ni performed data entry tasks into a listing program to post used books for sale online. i also managed warehouse inventory and operations.\\n\\nemployee of the month for being most conscientious at logic staffing – march 2011\\n\\nqualifications:\\nvery motivated to learn new technologies work well as part of a team or independently\\nhave the ability to deal with difficult situations in a calm demeanor ability to serve internal and eternal customers well\\nability to think clearly under stressful deadlines'"
      ]
     },
     "execution_count": 11,
     "metadata": {},
     "output_type": "execute_result"
    }
   ],
   "source": [
    "df['Resume_text'][20]"
   ]
  },
  {
   "cell_type": "markdown",
   "metadata": {},
   "source": [
    "## Train/Test Split and remove stopwords and tokenization "
   ]
  },
  {
   "cell_type": "code",
   "execution_count": 12,
   "metadata": {},
   "outputs": [],
   "source": [
    "train, test = train_test_split(df, test_size=0.3, random_state=42)"
   ]
  },
  {
   "cell_type": "code",
   "execution_count": 13,
   "metadata": {},
   "outputs": [],
   "source": [
    "import nltk\n",
    "from nltk.corpus import stopwords\n",
    "def tokenize_text(text):\n",
    "    tokens = []\n",
    "    for sent in nltk.sent_tokenize(text):\n",
    "        for word in nltk.word_tokenize(sent):\n",
    "            if len(word) < 2:\n",
    "                continue\n",
    "            tokens.append(word.lower())\n",
    "    return tokens"
   ]
  },
  {
   "cell_type": "code",
   "execution_count": 14,
   "metadata": {
    "scrolled": true
   },
   "outputs": [],
   "source": [
    "train_tagged = train.apply(\n",
    "    lambda r: TaggedDocument(words=tokenize_text(r['Resume_text']), tags=[r.Job_type]), axis=1)\n",
    "test_tagged = test.apply(\n",
    "    lambda r: TaggedDocument(words=tokenize_text(r['Resume_text']), tags=[r.Job_type]), axis=1)"
   ]
  },
  {
   "cell_type": "code",
   "execution_count": 15,
   "metadata": {
    "scrolled": true
   },
   "outputs": [
    {
     "data": {
      "text/plain": [
       "TaggedDocument(words=['ms.', 'marybeth', 'peters', 'delivering', 'results', 'achieving', 'trust', 'and', 'providing', 'outstanding', 'strategic', 'planning', 'project', 'management', 'and', 'it', 'consultation', 'for', 'over', 'ten', 'years', 'publications', 'honors', 'awards', 'and', 'other', 'achievements', '2013-14', 'outstanding', 'service', 'awards', 'peniel', 'solutions', 'llc', '2010', 'development/implementation', 'of', 'database', 'to', 'track', 'schedules/deliverables', 'mele', 'associates', 'education', 'certiications', 'and', 'training', 'associations', 'bachelo', 'degree', 'trinity', 'university', 'project', 'management', 'institute', 'pmi', 'marybeth', 'peters', 'pmp', 'associate', 'degree', 'mass', 'bay', 'comm', 'college', 'project', 'management', 'professional', 'csm', 'cmmi', 'and', 'itil', 'training', 'defense', 'acquisition', 'university', 'dau', 'cheverly', 'woman', 'club', 'professional', 'eperience', 'attain', 'senior', 'consultant/project', 'manager', 'fraud', 'detection', 'non-id', 'processing', 'united', 'states', 'census', 'bureau', '2018', 'present', 'marybeth', 'peters', 'pmp', 'provide', 'project', 'management', 'support', 'to', '2020', 'decennial', 'census', 'research', 'testing', 'interface', 'with', 'all', 'stakeholders', 'including', 'end', 'users', 'computer', 'services', 'and', 'client', 'services', 'engage', 'in', 'scope', 'development', 'requirements', 'gathering', 'and', 'monitoring', 'engage', 'in', 'agile', 'methodology', 'to', 'deliver', 'software', 'to', 'decennial', 'census', 'management', 'division', 'marybeth', 'peters', 'pmp', 'collaborate', 'with', 'technical', 'analysis', 'working', 'group', 'contribute', 'to', 'testing', 'research', 'and', 'report', 'preparation', 'perform', 'change', 'coniguration', 'release', 'management', 'and', 'coordinate', 'with', 'development', 'teams', 'manage', 'integration', 'of', 'vendor', 'tasks', 'track/review', 'vendor', 'deliverables', 'provide', 'analysis/', 'consultation/recommendations', 'and', 'ensure', 'adherence', 'to', 'quality', 'standards', 'develop', 'detailed', 'work', 'plans', 'schedules', 'project', 'estimates', 'marybeth', 'peters', 'pmp', 'resource', 'plans', 'and', 'status', 'reports', 'facilitate', 'risk', 'identiication', 'mitigation', 'strategy', 'development', 'contingency', 'planning', 'and', 'reporting', 'identify', 'and', 'implement', 'process', 'improvement', 'where', 'needed', 'monitor', 'administratively', 'restricted', 'sharepoint', 'and', 'membership', 'for', 'fraud', 'detection', 'responsible', 'for', 'all', 'aspects', 'of', 'development', 'and', 'implementation', 'of', 'assigned', 'projects', 'and', 'provide', 'single', 'point', 'of', 'contact', 'provide', 'support', 'from', 'original', 'concept', 'marybeth', 'peters', 'pmp', 'through', 'inal', 'implementation', 'eden', 'consulting', 'group', 'ecg', 'consultant/project', 'manager', 'fraud', 'detection', 'non-id', 'processing', 'united', 'states', 'census', 'bureau', '2016', '2018', 'provided', 'project', 'management', 'support', 'to', '2020', 'decennial', 'census', 'research', 'testing', 'phases', 'collaborated', 'on', 'strategic', 'planning/support-requirements', 'gathering', 'and', 'scope', 'deinition', 'fraud', 'detection', 'developed', 'solution', 'development', 'lifecycle', 'documentation/provide', 'tracking', 'to', 'authority', 'to', 'operate', 'marybeth', 'peters', 'pmp', 'contributed', 'to', 'project', 'schedule', 'development', 'schedule', 'tracking', 'and', 'status', 'reporting', 'engaged', 'in', 'agile', 'methodology', 'to', 'deliver', 'software', 'to', 'decennial', 'census', 'management', 'division', 'facilitated', 'risk', 'identiication', 'mitigation', 'strategy', 'development', 'contingency', 'planning', 'and', 'reporting', 'collaborated', 'on', 'technical', 'analysis', 'working', 'group', 'testing', 'research', 'and', 'provide', 'report', 'preparation', 'marybeth', 'peters', 'pmp', 'interfaced', 'with', 'all', 'stakeholders', 'and', 'provided', 'technical', 'and', 'analytical', 'guidance', 'to', 'the', 'project', 'team', 'identiied', 'and', 'implemented', 'process', 'improvement', 'where', 'needed', 'performed', 'change', 'coniguration', 'release', 'management', 'and', 'coordinate', 'with', 'development', 'teams', 'provided', 'analysis', 'and', 'consultation/recommendations', 'on', 'deliverables', 'and', 'key', 'milestones', 'marybeth', 'peters', 'pmp', 'responsible', 'for', 'all', 'aspects', 'of', 'development', 'and', 'implementation', 'of', 'assigned', 'projects', 'and', 'provide', 'single', 'point', 'of', 'contact', 'provide', 'support', 'from', 'original', 'concept', 'through', 'inal', 'implementation', 'peniel', 'solutions', 'llc', 'consultant/project', 'manager', 'in-house', 'business', 'solutions', 'and', 'oice', 'of', 'customer', 'relationship', 'and', 'performance', 'ocrpm', '-enterprise', 'program', 'management', 'division', 'united', 'states', 'department', 'of', 'housing', 'and', 'urban', 'development', '2013', '2016', 'provided', 'it', 'project', 'management', 'services', 'to', 'the', 'oice', 'of', 'the', 'chief', 'information', 'oicer', 'chief', 'technology', 'oicer', 'and', 'collaborated', 'with', 'stakeholders', 'across', 'the', 'enterprise', 'provided', 'research', 'strategic', 'planning', 'consultation-governance', 'technical', 'and', 'analytical', 'guidance', 'marybeth', 'peters', 'pmp', 'facilitated', 'workshops', 'for', 'requirements', 'gathering', 'and', 'scope', 'deinition', 'to', 'establish', 'program', 'management', 'oice', 'risk', 'quality', 'and', 'it', 'management', 'framework', 'built', 'program', 'management', 'oice', 'by', 'creating', 'standard', 'framework', 'processes', 'and', 'procedures', 'built', 'it', 'performance-risk-quality', 'project', 'health', 'assessment', 'and', 'trained', 'analysts', 'provided', 'program', 'management', 'oversight', 'consultation/training', 'on', 'project', 'planning', 'and', 'management', 'ppm', 'and', 'provided', 'updates', 'to', 'framework', 'to', 'include', 'agile', 'marybeth', 'peters', 'pmp', 'management', 'practices', 'engaged', 'in', 'sharepoint', 'development', 'website', 'design', 'and', 'it', 'tool', 'recommendations', 'provided', 'customer', 'service', 'training', 'ppm', 'open', 'house', 'and', 'help', 'desk', 'for', 'solution', 'development', 'lifecycle', 'documentation', 'provided', 'ongoing', 'performance', 'monitoring/reporting', 'on', 'resources', 'budget', 'schedule', 'scope', 'tasks/deliverables', 'and', 'quality', 'provided', 'consultation/strategic', 'planning', 'for', 'information', 'resource', 'marybeth', 'peters', 'pmp', 'management', 'reporting', 'engaged', 'in', 'consultation/event', 'planning', 'for', 'open', 'government', 'activities', 'along', 'with', 'report', 'writing', 'internal', 'peniel', 'solutions', 'llc', 'provided', 'research', 'writing', 'and', 'strategic', 'planning', 'as', 'part', 'of', 'senior', 'leadership', 'provided', 'evaluation', 'and', 'recommendations', 'on', 'it', 'products', 'and', 'services', 'engaged', 'with', 'business', 'development', 'team', 'on', 'sales', 'cloud', 'services', 'it', 'asset', 'management', 'content/document', 'management', 'and', 'business', 'intelligence', 'developed', 'enterprise', 'program', 'management', 'oice', 'framework', 'epmo', 'fle', 'collaborated', 'on', 'proposal', 'research', 'and', 'writing', 'collaborated', 'on', 'sharepoint', 'and', 'website', 'design/functionality', 'decypher', 'technologies', 'portfolio', 'manager/project', 'manager/team', 'lead', 'air', 'force', 'medical', 'support', 'agency', 'surgeon', 'general', 'research', 'development', 'operational', 'medicine', 'thrust', 'area', '2012', '2013', 'led', 'team', 'and', 'managed', '32', 'research/development', 'projects', 'in', 'operational', 'medicine', 'worth', '70', 'million', 'marybeth', 'peters', 'pmp', 'facilitated', 'requirements', 'workshops', 'developed', 'strategic', 'business/eecution', 'plans', 'aligned', 'analysis', 'of', 'requirements/costing', 'with', 'business', 'operating', 'strategy', 'developed', 'processes', 'and', 'support', 'tools', 'reviewed', 'new', 'technology', 'and', 'system', 'support', 'services', 'made', 'recommendations', 'as', 'to', 'price', 'government', 'requirements', 'hardware', 'and', 'software', 'functionality', 'and', 'vendor', 'ability', 'to', 'perform', 'the', 'necessary', 'action', 'to', 'produce', 'desired', 'results', 'reviewed', 'deliverables', 'assessed', 'presentations/research', 'proposals', 'and', 'provided', 'recommendations', 'trained', 'on', 'oversight', 'of', 'human', 'research', 'activities', 'and', 'reviewed', 'marybeth', 'peters', 'pmp', 'human', 'and', 'animal', 'research', 'protocols', 'for', 'compliance', 'conducted', 'ongoing', 'performance', 'monitoring', 'analysis', 'reporting', 'on', 'resources', 'budget', 'schedule', 'scope', 'tasks/deliverables', 'and', 'quality', 'assurance', 'mele', 'associates', 'project', 'manager', 'air', 'force', 'medical', 'support', 'agency', 'surgeon', 'general', 'research', 'development', 'congressional', 'special', 'interest', 'projects', 'directed', 'energy', 'force', 'protection', 'aeromedical', 'operational', 'medicine', 'thrust', 'areas', '2008', '2011', 'managed', 'four', 'research', 'and', 'development', 'projects', 'directed', 'energy', 'force', 'health', 'protection', 'aeromedical', 'operational', 'medicine', 'worth', '10', 'million', 'monitored', 'contracts/cooperative', 'agreements', 'in', 'various', 'locations', 'across', 'the', 'country', 'conducted', 'analysis', 'and', 'provided', 'reporting', 'on', 'cost', 'schedule', 'and', 'performance', 'marybeth', 'peters', 'pmp', 'reviewed', 'human/animal', 'research', 'protocols', 'and', 'amendments', 'for', 'compliance', 'prepared', 'brieing', 'materials', 'responses', 'for', 'congress', 'department', 'of', 'defense', 'and', 'air', 'force', 'leadership', 'mele', 'associates', 'project', 'coordinator', 'air', 'force', 'medical', 'support', 'agency', 'surgeon', 'general', 'research', 'development', 'congressional', 'special', 'interest', 'projects', 'directed', 'energy', 'force', 'protection', 'aeromedical', 'operational', 'medicine', 'thrust', 'areas', '2006', '2008', 'advised', 'on', 'potential', 'beneits/uses', 'of', 'automation', 'to', 'improve', 'eiciency', 'of', 'administrative', 'support', 'or', 'program', 'operations', 'marybeth', 'peters', 'pmp', 'evaluated', 'and', 'advised', 'on', 'organization', 'methods', 'and', 'procedures', 'for', 'providing', 'administrative', 'support', 'systems', 'such', 'as', 'records', 'communications', 'directives', 'forms', 'iles', 'and', 'documentation', 'identiied', 'data', 'required', 'for', 'use', 'in', 'the', 'management', 'and', 'direction', 'of', 'projects', 'and', 'programs', 'coordinated', 'communications', 'training', 'travel', 'deliverables', 'and', 'proposal', 'reviews', 'developed', 'submitted', 'reports', 'presentations', 'and', 'brieing', 'marybeth', 'peters', 'pmp', 'packages', 'for', 'senior', 'leadership'], tags=['Project Management'])"
      ]
     },
     "execution_count": 15,
     "metadata": {},
     "output_type": "execute_result"
    }
   ],
   "source": [
    "train_tagged.values[30]"
   ]
  },
  {
   "cell_type": "markdown",
   "metadata": {},
   "source": [
    "## Set up Doc2vec Model "
   ]
  },
  {
   "cell_type": "code",
   "execution_count": 16,
   "metadata": {},
   "outputs": [],
   "source": [
    "import multiprocessing\n",
    "\n",
    "cores = multiprocessing.cpu_count()"
   ]
  },
  {
   "cell_type": "markdown",
   "metadata": {},
   "source": [
    "## Distributed Bag of Words Model"
   ]
  },
  {
   "cell_type": "markdown",
   "metadata": {},
   "source": [
    "DBOW is the doc2vec model analogous to Skip-gram model in word2vec. The paragraph vectors are obtained by training a neural network on the task of predicting a probability distribution of words in a paragraph given a randomly-sampled word from the paragraph."
   ]
  },
  {
   "cell_type": "markdown",
   "metadata": {},
   "source": [
    "Building the vocabulary"
   ]
  },
  {
   "cell_type": "code",
   "execution_count": 17,
   "metadata": {},
   "outputs": [
    {
     "name": "stderr",
     "output_type": "stream",
     "text": [
      "100%|██████████| 72/72 [00:00<?, ?it/s]\n"
     ]
    }
   ],
   "source": [
    "model_dbow = Doc2Vec(dm=0, vector_size=300, negative=5, hs=0, min_count=2, sample = 0, workers=cores)\n",
    "model_dbow.build_vocab([x for x in tqdm(train_tagged.values)])"
   ]
  },
  {
   "cell_type": "markdown",
   "metadata": {},
   "source": [
    "Training Model"
   ]
  },
  {
   "cell_type": "code",
   "execution_count": 18,
   "metadata": {},
   "outputs": [
    {
     "name": "stderr",
     "output_type": "stream",
     "text": [
      "100%|██████████| 72/72 [00:00<?, ?it/s]\n",
      "100%|██████████| 72/72 [00:00<00:00, 72194.57it/s]\n",
      "100%|██████████| 72/72 [00:00<00:00, 72160.07it/s]\n",
      "100%|██████████| 72/72 [00:00<00:00, 72177.32it/s]\n",
      "100%|██████████| 72/72 [00:00<?, ?it/s]\n",
      "100%|██████████| 72/72 [00:00<?, ?it/s]\n",
      "100%|██████████| 72/72 [00:00<?, ?it/s]\n",
      "100%|██████████| 72/72 [00:00<?, ?it/s]\n",
      "100%|██████████| 72/72 [00:00<?, ?it/s]\n",
      "100%|██████████| 72/72 [00:00<?, ?it/s]\n",
      "100%|██████████| 72/72 [00:00<?, ?it/s]\n",
      "100%|██████████| 72/72 [00:00<?, ?it/s]\n",
      "100%|██████████| 72/72 [00:00<?, ?it/s]\n",
      "100%|██████████| 72/72 [00:00<?, ?it/s]\n",
      "100%|██████████| 72/72 [00:00<?, ?it/s]\n",
      "100%|██████████| 72/72 [00:00<?, ?it/s]\n",
      "100%|██████████| 72/72 [00:00<00:00, 73103.34it/s]\n",
      "100%|██████████| 72/72 [00:00<?, ?it/s]\n",
      "100%|██████████| 72/72 [00:00<?, ?it/s]\n",
      "100%|██████████| 72/72 [00:00<?, ?it/s]\n",
      "100%|██████████| 72/72 [00:00<?, ?it/s]\n",
      "100%|██████████| 72/72 [00:00<?, ?it/s]\n",
      "100%|██████████| 72/72 [00:00<?, ?it/s]\n",
      "100%|██████████| 72/72 [00:00<?, ?it/s]\n",
      "100%|██████████| 72/72 [00:00<?, ?it/s]\n",
      "100%|██████████| 72/72 [00:00<00:00, 72091.16it/s]\n",
      "100%|██████████| 72/72 [00:00<?, ?it/s]\n",
      "100%|██████████| 72/72 [00:00<?, ?it/s]\n",
      "100%|██████████| 72/72 [00:00<?, ?it/s]\n",
      "100%|██████████| 72/72 [00:00<?, ?it/s]\n"
     ]
    },
    {
     "name": "stdout",
     "output_type": "stream",
     "text": [
      "Wall time: 1.11 s\n"
     ]
    }
   ],
   "source": [
    "%%time\n",
    "for epoch in range(30):\n",
    "    model_dbow.train(utils.shuffle([x for x in tqdm(train_tagged.values)]), total_examples=len(train_tagged.values), epochs=1)\n",
    "    model_dbow.alpha -= 0.002\n",
    "    model_dbow.min_alpha = model_dbow.alpha"
   ]
  },
  {
   "cell_type": "markdown",
   "metadata": {},
   "source": [
    "## Building the vector feature for the classifier "
   ]
  },
  {
   "cell_type": "code",
   "execution_count": 19,
   "metadata": {},
   "outputs": [],
   "source": [
    "def vec_for_learning(model, tagged_docs):\n",
    "    sents = tagged_docs.values\n",
    "    targets, regressors = zip(*[(doc.tags[0], model.infer_vector(doc.words, steps=20)) for doc in sents])\n",
    "    return targets, regressors"
   ]
  },
  {
   "cell_type": "markdown",
   "metadata": {},
   "source": [
    "## Train the Logistic Regression classifier "
   ]
  },
  {
   "cell_type": "code",
   "execution_count": 20,
   "metadata": {},
   "outputs": [],
   "source": [
    "y_train, X_train = vec_for_learning(model_dbow, train_tagged)\n",
    "y_test, X_test = vec_for_learning(model_dbow, test_tagged)"
   ]
  },
  {
   "cell_type": "code",
   "execution_count": 21,
   "metadata": {},
   "outputs": [],
   "source": [
    "logreg = LogisticRegression(n_jobs=1, C=1e5)\n",
    "logreg.fit(X_train, y_train)\n",
    "y_pred = logreg.predict(X_test)"
   ]
  },
  {
   "cell_type": "code",
   "execution_count": 22,
   "metadata": {},
   "outputs": [
    {
     "name": "stdout",
     "output_type": "stream",
     "text": [
      "Testing accuracy 0.12903225806451613\n"
     ]
    },
    {
     "name": "stderr",
     "output_type": "stream",
     "text": [
      "C:\\Users\\johnn\\Anaconda3\\lib\\site-packages\\sklearn\\metrics\\classification.py:1135: UndefinedMetricWarning: F-score is ill-defined and being set to 0.0 in labels with no predicted samples.\n",
      "  'precision', 'predicted', average, warn_for)\n"
     ]
    },
    {
     "name": "stdout",
     "output_type": "stream",
     "text": [
      "Testing F1 score: 0.12096774193548386\n"
     ]
    }
   ],
   "source": [
    "from sklearn.metrics import accuracy_score, f1_score\n",
    "\n",
    "print('Testing accuracy %s' % accuracy_score(y_test, y_pred))\n",
    "print('Testing F1 score: {}'.format(f1_score(y_test, y_pred, average='weighted')))"
   ]
  },
  {
   "cell_type": "markdown",
   "metadata": {},
   "source": [
    "Accuracy - Accuracy is the most intuitive performance measure and it is simply a ratio of correctly predicted observation to the total observations. One may think that, if we have high accuracy then our model is best. Yes, accuracy is a great measure but only when you have symmetric datasets where values of false positive and false negatives are almost same. Therefore, you have to look at other parameters to evaluate the performance of your model."
   ]
  },
  {
   "cell_type": "markdown",
   "metadata": {},
   "source": [
    "Precision - Precision is the ratio of correctly predicted positive observations to the total predicted positive observations. \n",
    "Recall (Sensitivity) - Recall is the ratio of correctly predicted positive observations to the all observations in actual class\n",
    "F1 Score is the weighted average of Precision and Recall."
   ]
  },
  {
   "cell_type": "markdown",
   "metadata": {},
   "source": [
    "## Distributed Memory Model "
   ]
  },
  {
   "cell_type": "markdown",
   "metadata": {},
   "source": [
    "Distributed Memory (DM) acts as a memory that remembers what is missing from the current context — or as the topic of the paragraph. While the word vectors represent the concept of a word, the document vector intends to represent the concept of a document."
   ]
  },
  {
   "cell_type": "code",
   "execution_count": 46,
   "metadata": {},
   "outputs": [
    {
     "name": "stderr",
     "output_type": "stream",
     "text": [
      "100%|██████████| 72/72 [00:00<?, ?it/s]\n"
     ]
    }
   ],
   "source": [
    "model_dmm = Doc2Vec(dm=1, dm_mean=1, vector_size=500, window=10, negative=5, min_count=1, workers=5, alpha=0.065, min_alpha=0.065)\n",
    "model_dmm.build_vocab([x for x in tqdm(train_tagged.values)])"
   ]
  },
  {
   "cell_type": "code",
   "execution_count": 47,
   "metadata": {},
   "outputs": [
    {
     "name": "stderr",
     "output_type": "stream",
     "text": [
      "100%|██████████| 72/72 [00:00<?, ?it/s]\n",
      "100%|██████████| 72/72 [00:00<?, ?it/s]\n",
      "100%|██████████| 72/72 [00:00<?, ?it/s]\n",
      "100%|██████████| 72/72 [00:00<?, ?it/s]\n",
      "100%|██████████| 72/72 [00:00<?, ?it/s]\n",
      "100%|██████████| 72/72 [00:00<00:00, 72125.60it/s]\n",
      "100%|██████████| 72/72 [00:00<?, ?it/s]\n",
      "100%|██████████| 72/72 [00:00<?, ?it/s]\n",
      "100%|██████████| 72/72 [00:00<?, ?it/s]\n",
      "100%|██████████| 72/72 [00:00<?, ?it/s]\n",
      "100%|██████████| 72/72 [00:00<?, ?it/s]\n",
      "100%|██████████| 72/72 [00:00<?, ?it/s]\n",
      "100%|██████████| 72/72 [00:00<?, ?it/s]\n",
      "100%|██████████| 72/72 [00:00<?, ?it/s]\n",
      "100%|██████████| 72/72 [00:00<?, ?it/s]\n",
      "100%|██████████| 72/72 [00:00<?, ?it/s]\n",
      "100%|██████████| 72/72 [00:00<00:00, 72160.07it/s]\n",
      "100%|██████████| 72/72 [00:00<?, ?it/s]\n",
      "100%|██████████| 72/72 [00:00<?, ?it/s]\n",
      "100%|██████████| 72/72 [00:00<00:00, 72194.57it/s]\n",
      "100%|██████████| 72/72 [00:00<?, ?it/s]\n",
      "100%|██████████| 72/72 [00:00<?, ?it/s]\n",
      "100%|██████████| 72/72 [00:00<?, ?it/s]\n",
      "100%|██████████| 72/72 [00:00<?, ?it/s]\n",
      "100%|██████████| 72/72 [00:00<?, ?it/s]\n",
      "100%|██████████| 72/72 [00:00<00:00, 72874.01it/s]\n",
      "100%|██████████| 72/72 [00:00<?, ?it/s]\n",
      "100%|██████████| 72/72 [00:00<?, ?it/s]\n",
      "100%|██████████| 72/72 [00:00<?, ?it/s]\n",
      "100%|██████████| 72/72 [00:00<?, ?it/s]\n"
     ]
    },
    {
     "name": "stdout",
     "output_type": "stream",
     "text": [
      "Wall time: 2.75 s\n"
     ]
    }
   ],
   "source": [
    "%%time\n",
    "for epoch in range(30):\n",
    "    model_dmm.train(utils.shuffle([x for x in tqdm(train_tagged.values)]), total_examples=len(train_tagged.values), epochs=1)\n",
    "    model_dmm.alpha -= 0.002\n",
    "    model_dmm.min_alpha = model_dmm.alpha"
   ]
  },
  {
   "cell_type": "markdown",
   "metadata": {},
   "source": [
    "##  Train the Logistic Regression Classifier"
   ]
  },
  {
   "cell_type": "code",
   "execution_count": 48,
   "metadata": {},
   "outputs": [
    {
     "name": "stdout",
     "output_type": "stream",
     "text": [
      "Testing accuracy 0.45161290322580644\n"
     ]
    },
    {
     "name": "stderr",
     "output_type": "stream",
     "text": [
      "C:\\Users\\johnn\\Anaconda3\\lib\\site-packages\\sklearn\\metrics\\classification.py:1135: UndefinedMetricWarning: F-score is ill-defined and being set to 0.0 in labels with no predicted samples.\n",
      "  'precision', 'predicted', average, warn_for)\n"
     ]
    },
    {
     "name": "stdout",
     "output_type": "stream",
     "text": [
      "Testing F1 score: 0.4848896434634974\n"
     ]
    }
   ],
   "source": [
    "y_train, X_train = vec_for_learning(model_dmm, train_tagged)\n",
    "y_test, X_test = vec_for_learning(model_dmm, test_tagged)\n",
    "\n",
    "logreg.fit(X_train, y_train)\n",
    "y_pred = logreg.predict(X_test)\n",
    "\n",
    "print('Testing accuracy %s' % accuracy_score(y_test, y_pred))\n",
    "print('Testing F1 score: {}'.format(f1_score(y_test, y_pred, average='weighted')))"
   ]
  },
  {
   "cell_type": "code",
   "execution_count": 26,
   "metadata": {},
   "outputs": [],
   "source": [
    "model_dbow.delete_temporary_training_data(keep_doctags_vectors=True, keep_inference=True)\n",
    "model_dmm.delete_temporary_training_data(keep_doctags_vectors=True, keep_inference=True)"
   ]
  },
  {
   "cell_type": "markdown",
   "metadata": {},
   "source": [
    "## Combined Model "
   ]
  },
  {
   "cell_type": "markdown",
   "metadata": {},
   "source": [
    "Concatenate two models above"
   ]
  },
  {
   "cell_type": "code",
   "execution_count": 27,
   "metadata": {
    "scrolled": false
   },
   "outputs": [],
   "source": [
    "from gensim.test.test_doc2vec import ConcatenatedDoc2Vec\n",
    "new_model = ConcatenatedDoc2Vec([model_dbow, model_dmm])"
   ]
  },
  {
   "cell_type": "markdown",
   "metadata": {},
   "source": [
    "Building feature vectors"
   ]
  },
  {
   "cell_type": "code",
   "execution_count": 28,
   "metadata": {},
   "outputs": [],
   "source": [
    "def get_vectors(model, tagged_docs):\n",
    "    sents = tagged_docs.values\n",
    "    targets, regressors = zip(*[(doc.tags[0], model.infer_vector(doc.words, steps=20)) for doc in sents])\n",
    "    return targets, regressors"
   ]
  },
  {
   "cell_type": "markdown",
   "metadata": {},
   "source": [
    "Train the logistic regression"
   ]
  },
  {
   "cell_type": "code",
   "execution_count": 29,
   "metadata": {},
   "outputs": [],
   "source": [
    "y_train, X_train = get_vectors(new_model, train_tagged)\n",
    "y_test, X_test = get_vectors(new_model, test_tagged)"
   ]
  },
  {
   "cell_type": "code",
   "execution_count": 30,
   "metadata": {},
   "outputs": [
    {
     "name": "stdout",
     "output_type": "stream",
     "text": [
      "Testing accuracy 0.41935483870967744\n"
     ]
    },
    {
     "name": "stderr",
     "output_type": "stream",
     "text": [
      "C:\\Users\\johnn\\Anaconda3\\lib\\site-packages\\sklearn\\metrics\\classification.py:1135: UndefinedMetricWarning: F-score is ill-defined and being set to 0.0 in labels with no predicted samples.\n",
      "  'precision', 'predicted', average, warn_for)\n"
     ]
    },
    {
     "name": "stdout",
     "output_type": "stream",
     "text": [
      "Testing F1 score: 0.37026647966339415\n"
     ]
    }
   ],
   "source": [
    "logreg.fit(X_train, y_train)\n",
    "y_pred = logreg.predict(X_test)\n",
    "\n",
    "print('Testing accuracy %s' % accuracy_score(y_test, y_pred))\n",
    "print('Testing F1 score: {}'.format(f1_score(y_test, y_pred, average='weighted')))"
   ]
  },
  {
   "cell_type": "code",
   "execution_count": null,
   "metadata": {},
   "outputs": [],
   "source": []
  },
  {
   "cell_type": "code",
   "execution_count": null,
   "metadata": {},
   "outputs": [],
   "source": []
  }
 ],
 "metadata": {
  "kernelspec": {
   "display_name": "Python 3",
   "language": "python",
   "name": "python3"
  },
  "language_info": {
   "codemirror_mode": {
    "name": "ipython",
    "version": 3
   },
   "file_extension": ".py",
   "mimetype": "text/x-python",
   "name": "python",
   "nbconvert_exporter": "python",
   "pygments_lexer": "ipython3",
   "version": "3.6.4"
  }
 },
 "nbformat": 4,
 "nbformat_minor": 2
}
